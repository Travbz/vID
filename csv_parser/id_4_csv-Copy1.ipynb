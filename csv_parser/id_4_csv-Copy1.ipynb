{
 "cells": [
  {
   "cell_type": "code",
   "execution_count": 1,
   "id": "fb5b3445",
   "metadata": {},
   "outputs": [],
   "source": [
    "import pandas as pd\n",
    "'''\n",
    "This script converts a column of names into unique IDs\n",
    "Rename the company/customer-names column of this file(code below) to match the column name in your file.\n",
    "\n",
    "'''  \n",
    "try:\n",
    "    df = pd.read_excel('company.xlsx')\n",
    "    df.to_csv('company.csv', mode = 'w', index=False)\n",
    "except:\n",
    "    df = pd.read_csv('company.csv')"
   ]
  },
  {
   "cell_type": "code",
   "execution_count": 2,
   "id": "8b729424",
   "metadata": {},
   "outputs": [],
   "source": [
    "import pandas as pd\n",
    "\n",
    "def generate_unique_id(company_name: str) -> str:\n",
    "    \"\"\"\n",
    "    :params company_name \n",
    "    :return a unique 12 character ID based on the named from the input\n",
    "    \n",
    "    \"\"\"\n",
    "    unique_key = ''\n",
    "    company_name = company_name.upper()\n",
    "    \n",
    "    # remove designated 'stop' words from name\n",
    "    for char in ((\"THE \", \"\"), (\" THE \", \" \"), (\" AND \", \" \"), (\" OF \", \" \")):\n",
    "        company_name= company_name.replace(*char)\n",
    "    \n",
    "    name_list = company_name.split(' ')\n",
    "    wordCount = len(name_list)\n",
    "    new_name_list = []\n",
    "\n",
    "    for name in name_list:\n",
    "        new_name_list.append(''.join(ch.upper() for ch in name if ch.isalnum()))\n",
    "    \n",
    "    if wordCount == 1:\n",
    "            unique_key = new_name_list[0][0:8]\n",
    "    else:\n",
    "        for i in range(len(new_name_list)):\n",
    "            if i == 0:\n",
    "                unique_key += new_name_list[i][:4]\n",
    "            else:\n",
    "                unique_key += new_name_list[i][:2]\n",
    "\n",
    "            if len(unique_key) > 7:\n",
    "                break\n",
    "\n",
    "    if len(unique_key) <= 8:\n",
    "        unique_key += 'x' * (8 - len(unique_key))\n",
    "    \n",
    "    \n",
    "    hash = 0\n",
    "    for ch in unique_key:\n",
    "        hash = ( hash*281  ^ ord(ch)*997) & 0xFFFFFFFF\n",
    "    hash_number = str(hash)\n",
    "    \n",
    "\n",
    "    unique_key += hash_number[0:3]\n",
    "    \n",
    "    return unique_key"
   ]
  },
  {
   "cell_type": "code",
   "execution_count": 3,
   "id": "d1b581b8",
   "metadata": {},
   "outputs": [
    {
     "name": "stdout",
     "output_type": "stream",
     "text": [
      "WALMARTx920\n"
     ]
    }
   ],
   "source": [
    "print(generate_unique_id('Walmart'))"
   ]
  },
  {
   "cell_type": "code",
   "execution_count": 4,
   "id": "a2f582a5",
   "metadata": {},
   "outputs": [
    {
     "ename": "NameError",
     "evalue": "name 'WALMARTx920' is not defined",
     "output_type": "error",
     "traceback": [
      "\u001b[0;31m---------------------------------------------------------------------------\u001b[0m",
      "\u001b[0;31mNameError\u001b[0m                                 Traceback (most recent call last)",
      "\u001b[0;32m/tmp/ipykernel_312011/1760520832.py\u001b[0m in \u001b[0;36m<module>\u001b[0;34m\u001b[0m\n\u001b[0;32m----> 1\u001b[0;31m \u001b[0mWALMARTx920\u001b[0m\u001b[0;34m\u001b[0m\u001b[0;34m\u001b[0m\u001b[0m\n\u001b[0m",
      "\u001b[0;31mNameError\u001b[0m: name 'WALMARTx920' is not defined"
     ]
    }
   ],
   "source": [
    "# WALMARTx920"
   ]
  }
 ],
 "metadata": {
  "kernelspec": {
   "display_name": "Python 3 (ipykernel)",
   "language": "python",
   "name": "python3"
  },
  "language_info": {
   "codemirror_mode": {
    "name": "ipython",
    "version": 3
   },
   "file_extension": ".py",
   "mimetype": "text/x-python",
   "name": "python",
   "nbconvert_exporter": "python",
   "pygments_lexer": "ipython3",
   "version": "3.9.7"
  }
 },
 "nbformat": 4,
 "nbformat_minor": 5
}
